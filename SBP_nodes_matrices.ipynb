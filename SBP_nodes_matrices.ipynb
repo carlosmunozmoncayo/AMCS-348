{
 "cells": [
  {
   "cell_type": "markdown",
   "id": "f697c086",
   "metadata": {},
   "source": [
    "# SBP Operators\n",
    "#### References:\n",
    "\n",
    "Carpenter, M. H., Parsani, M., Fisher, T. C., & Nielsen, E. J. (2015). Entropy Stable Staggered Grid Spectral Collocation for the Burgers' and Compressible Navier-Stokes Equations (No. NF1676L-22150).\n",
    "\n",
    "Canuto, C., Hussaini, M. Y., Quarteroni, A., & Zang, T. A. (2007). Spectral methods: fundamentals in single domains. Springer Science & Business Media.\n"
   ]
  },
  {
   "cell_type": "markdown",
   "id": "6c497864",
   "metadata": {},
   "source": [
    "## Computing Lagrange basis"
   ]
  },
  {
   "cell_type": "markdown",
   "id": "eee9b848",
   "metadata": {},
   "source": [
    "We import some useful modules"
   ]
  },
  {
   "cell_type": "code",
   "execution_count": null,
   "id": "1f4555e2",
   "metadata": {},
   "outputs": [],
   "source": [
    "import numpy as np\n",
    "import matplotlib.pyplot as plt"
   ]
  },
  {
   "cell_type": "code",
   "execution_count": null,
   "id": "26c76edf",
   "metadata": {},
   "outputs": [],
   "source": [
    "from basis_nodes import generate_lagrange_poly, generate_LGL_points"
   ]
  },
  {
   "cell_type": "markdown",
   "id": "fcbcedc9",
   "metadata": {},
   "source": [
    "The function generate_lagrange_poly(j, x_nodes) will return a Lagrange polynomial and its derivative:\n",
    "\n",
    "$$\n",
    "L_j(x)=\\prod_{k \\neq j} \\frac{x-x_k}{x_j-x_k},\n",
    "$$\n",
    "and\n",
    "$$\n",
    "L_j^{\\prime}(x)=\\frac{\\sum_{k=0, k \\neq j}^n \\prod_{l=0, l \\neq k, l \\neq j}^n\\left(x-x_l\\right)}{\\prod_{k=0, k \\neq j}^n\\left(x_j-x_k\\right)}.\n",
    "$$\n",
    "\n",
    "A set of nodes should be provided, it is desired that these be the Legendre-Gauss-Lobatto (LGL) nodes."
   ]
  },
  {
   "cell_type": "code",
   "execution_count": null,
   "id": "15aa99ed",
   "metadata": {},
   "outputs": [],
   "source": [
    "nodes = np.array([0,1,2,3,4,5,6])\n",
    "idx = 4\n",
    "poly, polyp = generate_lagrange_poly(idx,nodes)"
   ]
  },
  {
   "cell_type": "code",
   "execution_count": null,
   "id": "4aa355f3",
   "metadata": {},
   "outputs": [],
   "source": [
    "vpoly = np.vectorize(poly)\n",
    "vpolyp = np.vectorize(polyp)"
   ]
  },
  {
   "cell_type": "code",
   "execution_count": null,
   "id": "cea8e8fd",
   "metadata": {},
   "outputs": [],
   "source": [
    "x = np.linspace(0,6,50)\n",
    "\n",
    "fig = plt.figure(dpi=100, figsize=(8,4))\n",
    "ax = fig.add_subplot(1, 1, 1)\n",
    "ax.set_ylim([-5,5])\n",
    "ax.plot(x,np.zeros(len(x)),color='k', lw=1)\n",
    "ax.plot(x, vpoly(x), label=f'$L_{idx}(x)$')\n",
    "ax.plot(x, vpolyp(x),color='g', label=f'$L_{idx}\\'(x)$')\n",
    "ax.scatter(nodes,vpoly(nodes),marker='x', color='r')\n",
    "plt.legend()\n",
    "plt.show()"
   ]
  },
  {
   "cell_type": "markdown",
   "id": "bd7b17e2",
   "metadata": {},
   "source": [
    "## Computing LG and LGL points"
   ]
  },
  {
   "cell_type": "code",
   "execution_count": null,
   "id": "d71faed4",
   "metadata": {},
   "outputs": [],
   "source": [
    "n_points = 10\n",
    "(p_Legn, p_Legn_prime,\n",
    "p_Legn1, p_Legn1_prime,\n",
    "x_LG, w_LG,\n",
    "x_LGL, w_LGL) = generate_LGL_points(n_points)\n",
    "x = np.linspace(-1,1,1000)"
   ]
  },
  {
   "cell_type": "markdown",
   "id": "0fff31b9",
   "metadata": {},
   "source": [
    "The Legendre polynomials are computed as eigenfunctions of the Sturm-Liouville problem (Canuto et al., 2006):\n",
    "\n",
    "$$\n",
    "((1-x^2) L_k'(x))'+k(k+1) L_k(x) = 0.\n",
    "$$\n",
    "\n",
    "The Legendre-Gauss nodes and weights are computed as\n",
    "$$\n",
    "\\begin{gathered}\n",
    "x_j(j=0, \\ldots, N) \\text { zeros of } L_{N+1} ; \\\\\n",
    "w_j=\\frac{2}{\\left(1-x_j^2\\right)\\left[L_{N+1}^{\\prime}\\left(x_j\\right)\\right]^2}, \\quad j=0, \\ldots, N\n",
    "\\end{gathered}\n",
    "$$"
   ]
  },
  {
   "cell_type": "code",
   "execution_count": null,
   "id": "c8bf54bb",
   "metadata": {},
   "outputs": [],
   "source": [
    "fig = plt.figure(dpi=100, figsize=(8,3))\n",
    "ax = fig.add_subplot(1, 1, 1)\n",
    "ax.plot(x,np.zeros(len(x)),color='k', lw=1)\n",
    "ax.plot(x, p_Legn1(x), label=f'$L(x)$')\n",
    "ax.scatter(x_LG,np.zeros(len(x_LG)),marker='x', color='r', label='LG points')\n",
    "#ax.scatter(x_LG,w_LG,marker='x', color='g', label='LGL weights')\n",
    "plt.legend()\n",
    "plt.show()"
   ]
  },
  {
   "cell_type": "markdown",
   "id": "9f20a5d1",
   "metadata": {},
   "source": [
    "The Legendre-Gauss-Lobatto nodes and weights are computed as\n",
    "\n",
    "$$\n",
    "\\begin{gathered}\n",
    "x_0=-1, x_N=1, x_j(j=1, \\ldots, N-1) \\text { zeros of } L_N^{\\prime} ; \\\\\n",
    "w_j=\\frac{2}{N(N+1)} \\frac{1}{\\left[L_N\\left(x_j\\right)\\right]^2}, \\quad j=0, \\ldots, N .\n",
    "\\end{gathered}\n",
    "$$"
   ]
  },
  {
   "cell_type": "code",
   "execution_count": null,
   "id": "d4febe4c",
   "metadata": {
    "scrolled": true
   },
   "outputs": [],
   "source": [
    "#tol=1.e-14\n",
    "#findiff=(p_Legn(x+tol)-p_Legn(x-tol))/tol\n",
    "fig = plt.figure(dpi=100, figsize=(8,3))\n",
    "ax = fig.add_subplot(1, 1, 1)\n",
    "ax.plot(x,np.zeros(len(x)),color='k', lw=1)\n",
    "ax.plot(x, p_Legn_prime(x), label=f'$L\\'(x)$')\n",
    "#ax.plot(x,findiff, color='g')\n",
    "ax.scatter(x_LGL,np.zeros(len(x_LGL)),marker='x', color='r', label='LGL points')\n",
    "#ax.scatter(x_LGL,w_LGL,marker='x', color='g', label='LGL weights')\n",
    "plt.legend()\n",
    "plt.show()"
   ]
  },
  {
   "cell_type": "markdown",
   "id": "d9246ea0",
   "metadata": {},
   "source": [
    "Validating nodes and weights with some simple integrals"
   ]
  },
  {
   "cell_type": "code",
   "execution_count": null,
   "id": "40795bd9",
   "metadata": {},
   "outputs": [],
   "source": [
    "f = lambda x: x**2\n",
    "g = lambda x: (1./3.)*x**3\n",
    "num_int_LG=np.sum(f(x_LG)*w_LG)\n",
    "num_int_LGL=np.sum(f(x_LGL)*w_LGL)\n",
    "exact_int = g(1)-g(-1)\n",
    "print(f\"LG integration: {num_int_LG}\")\n",
    "print(f\"LGL integration:{num_int_LGL}\")\n",
    "print(f\"Exact integral: {exact_int}\")\n"
   ]
  },
  {
   "cell_type": "markdown",
   "id": "2e94c299",
   "metadata": {},
   "source": [
    "## Computing first order SBP matrices"
   ]
  },
  {
   "cell_type": "code",
   "execution_count": null,
   "id": "0b2db3c4",
   "metadata": {},
   "outputs": [],
   "source": [
    "from SBP_matrices import first_order_D, first_order_P_Q\n",
    "\n",
    "n_points = 2\n",
    "(p_Legn, p_Legn_prime,\n",
    "p_Legn1, p_Legn1_prime,\n",
    "x_LG, w_LG,\n",
    "x_LGL, w_LGL) = generate_LGL_points(n_points)\n",
    "\n",
    "n_nodes = len(x_LGL)\n",
    "x = np.linspace(-0.5,0.5,n_nodes)\n",
    "D_LG = first_order_D(x_nodes=x_LG)\n",
    "D_LGL = first_order_D(x_nodes=x_LGL)\n",
    "D = first_order_D(x_nodes=x)\n",
    "print(\"D_LG:\")\n",
    "print(np.round(D_LG,2))\n",
    "print(\"D_LGL:\")\n",
    "print(np.round(D_LGL,2))\n",
    "print(\"D:\")\n",
    "print(np.round(D,2))"
   ]
  },
  {
   "cell_type": "code",
   "execution_count": null,
   "id": "b3f14561",
   "metadata": {},
   "outputs": [],
   "source": [
    "P_LG, Q_LG = first_order_P_Q(x_Lagrange_nodes=x_LG)\n",
    "P_LGL, Q_LGL = first_order_P_Q(x_Lagrange_nodes=x_LGL)\n",
    "P, Q = first_order_P_Q(x_Lagrange_nodes=x)\n",
    "print(\"P_LG:\")\n",
    "print(np.round(P_LG,2))\n",
    "print(\"P_LGL:\")\n",
    "print(np.round(P_LGL,2))\n",
    "print(\"P:\")\n",
    "print(np.round(P,2))"
   ]
  },
  {
   "cell_type": "markdown",
   "id": "80f8fbcf",
   "metadata": {},
   "source": [
    "### Validating our computations using Q\n",
    "We compute Q through \n",
    "$$\n",
    "Q = \\sum_{\\ell} {\\bf L}(\\eta_{\\ell};{\\bf x}) {\\bf L}(\\eta_{\\ell};{\\bf x})^T \\omega_{\\ell},\n",
    "$$\n",
    "and \n",
    "$Q=PQ$."
   ]
  },
  {
   "cell_type": "code",
   "execution_count": null,
   "id": "fae9e851",
   "metadata": {},
   "outputs": [],
   "source": [
    "print(\"P_LG @ D_LG:\")\n",
    "print(np.round(P_LG@D_LG,2))\n",
    "print(\"P_LGL @ D_LG:\")\n",
    "print(np.round(P_LGL@D_LGL,2))\n",
    "print(\"P @ D:\")\n",
    "print(np.round(P@D,2))"
   ]
  },
  {
   "cell_type": "code",
   "execution_count": null,
   "id": "8f332f16",
   "metadata": {},
   "outputs": [],
   "source": [
    "print(\"Q_LG:\")\n",
    "print(np.round(Q_LG,2))\n",
    "print(\"Q_LGL:\")\n",
    "print(np.round(Q_LGL,2))\n",
    "print(\"Q:\")\n",
    "print(np.round(Q,2))"
   ]
  },
  {
   "cell_type": "markdown",
   "id": "99a460ff",
   "metadata": {},
   "source": [
    "### Verifying SBP properties\n",
    "From inspection we can see that $P$ is symmetric for the different Lagrange bases, lets check if it's PD:"
   ]
  },
  {
   "cell_type": "code",
   "execution_count": null,
   "id": "052e7059",
   "metadata": {},
   "outputs": [],
   "source": [
    "def is_pos_def(A):\n",
    "    if np.array_equal(A, A.T):\n",
    "        try:\n",
    "            np.linalg.cholesky(A)\n",
    "            return True\n",
    "        except np.linalg.LinAlgError:\n",
    "            return False\n",
    "    else:\n",
    "        return False\n",
    "print(f\"P_LG SPD?: {is_pos_def(P_LG)}\")\n",
    "print(f\"P_LGL SPD?: {is_pos_def(P_LGL)}\")\n",
    "print(f\"P SPD?: {is_pos_def(P)}\")"
   ]
  },
  {
   "cell_type": "markdown",
   "id": "bda43954",
   "metadata": {},
   "source": [
    "Now we check if\n",
    "$$\n",
    "    Q^T = B- Q. \\qquad B=\\text{Diag}(-1,0,...,0,1)\n",
    "$$"
   ]
  },
  {
   "cell_type": "code",
   "execution_count": null,
   "id": "7426fb60",
   "metadata": {
    "scrolled": true
   },
   "outputs": [],
   "source": [
    "B=np.zeros((len(P),len(P))); B[0,0]=-1; B[-1,-1]=1\n",
    "print(f\"Q_LG^T - (B-Q_LG):\\n\", np.round(np.transpose(Q_LG)-(B-Q_LG),2))\n",
    "print(f\"Q_LGL^T - (B-Q_LGL):\\n\", np.round(np.transpose(Q_LGL)-(B-Q_LGL),2))\n",
    "print(f\"Q^T - (B-Q):\\n\", np.round(np.transpose(Q)-(B-Q),2))"
   ]
  },
  {
   "cell_type": "markdown",
   "id": "14551135",
   "metadata": {},
   "source": [
    "Apart from having a diagonal matrix $P_{LGL}$, the Lagrange basis produced by the LGL nodes gives us matrices $P_{LGL}$ and $Q_{LGL}$ that satisfy the SBP convention."
   ]
  }
 ],
 "metadata": {
  "kernelspec": {
   "display_name": "3.8.9",
   "language": "python",
   "name": "pyenv_3.8.9"
  },
  "language_info": {
   "codemirror_mode": {
    "name": "ipython",
    "version": 3
   },
   "file_extension": ".py",
   "mimetype": "text/x-python",
   "name": "python",
   "nbconvert_exporter": "python",
   "pygments_lexer": "ipython3",
   "version": "3.8.9"
  }
 },
 "nbformat": 4,
 "nbformat_minor": 5
}
