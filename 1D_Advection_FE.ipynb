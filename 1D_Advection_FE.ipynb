{
 "cells": [
  {
   "cell_type": "markdown",
   "id": "3e7e45d0",
   "metadata": {},
   "source": [
    "## Advection equation using SBP Operators"
   ]
  },
  {
   "cell_type": "markdown",
   "id": "7fad6b04",
   "metadata": {},
   "source": [
    "Let us solve the one-dimensional advection equation with periodic boundary conditions\n",
    "$$\n",
    "u_t + c u_x = 0\\;\\; \\text{on }[a,b], \\\\\n",
    "c>0, \\\\\n",
    "u(x,0)=u_0(x), \\\\\n",
    "u(a,t)=u(b,t).\n",
    "$$"
   ]
  },
  {
   "cell_type": "markdown",
   "id": "58c07807",
   "metadata": {},
   "source": [
    "Importing some libraries"
   ]
  },
  {
   "cell_type": "code",
   "execution_count": 1,
   "id": "2982b456",
   "metadata": {},
   "outputs": [],
   "source": [
    "import numpy as np\n",
    "import matplotlib.pyplot as plt\n",
    "from basis_nodes import generate_lagrange_poly, generate_LGL_points\n",
    "from SBP_matrices import first_order_D, first_order_P_Q"
   ]
  },
  {
   "cell_type": "markdown",
   "id": "4faf2c3e",
   "metadata": {},
   "source": [
    "Defining parameters"
   ]
  },
  {
   "cell_type": "code",
   "execution_count": 46,
   "id": "05b9c1ff",
   "metadata": {},
   "outputs": [],
   "source": [
    "#Computational domain\n",
    "#Each element i will be enclosed by x_{i} and x_{i+1}\n",
    "x = np.linspace(0,2*np.pi,10)\n",
    "n_elements = len(x)-1\n",
    "#Advection speed\n",
    "c = 0.5\n",
    "#Spatial order of accuracy\n",
    "order_x = 3"
   ]
  },
  {
   "cell_type": "markdown",
   "id": "af742837",
   "metadata": {},
   "source": [
    "Computing nodes at reference element"
   ]
  },
  {
   "cell_type": "code",
   "execution_count": 47,
   "id": "81cbc7b7",
   "metadata": {},
   "outputs": [],
   "source": [
    "#We'll need a Lagrange basis of degree order_x-1\n",
    "#Thus, we will need order_x nodes in each element\n",
    "degree_basis = order_x-1\n",
    "(p_Legn, p_Legn_prime,\n",
    "p_Legn1, p_Legn1_prime,\n",
    "x_LG, w_LG,\n",
    "x_LGL, w_LGL) = generate_LGL_points(degree_basis)\n",
    "n_nodes = len(x_LGL)"
   ]
  },
  {
   "cell_type": "markdown",
   "id": "8c36c5ad",
   "metadata": {},
   "source": [
    "Mapping reference element to whole grid. The interface points are stored twice for simplicity."
   ]
  },
  {
   "cell_type": "code",
   "execution_count": 49,
   "id": "f6ec68d9",
   "metadata": {},
   "outputs": [
    {
     "name": "stdout",
     "output_type": "stream",
     "text": [
      "Element 1\t [0.         0.34906585 0.6981317 ]\n",
      "Element 2\t [0.6981317  1.04719755 1.3962634 ]\n",
      "Element 3\t [1.3962634  1.74532925 2.0943951 ]\n",
      "Element 4\t [2.0943951  2.44346095 2.7925268 ]\n",
      "Element 5\t [2.7925268  3.14159265 3.4906585 ]\n",
      "Element 6\t [3.4906585  3.83972435 4.1887902 ]\n",
      "Element 7\t [4.1887902  4.53785606 4.88692191]\n",
      "Element 8\t [4.88692191 5.23598776 5.58505361]\n",
      "Element 9\t [5.58505361 5.93411946 6.28318531]\n"
     ]
    }
   ],
   "source": [
    "#We map the nodes from the reference element to one of the elements \n",
    "#from our computational domain (this suffices since we are using an uniform grid)\n",
    "x_min = x[0]\n",
    "x_max = x[1]\n",
    "x_element = (x_LGL*(x_max-x_min)+(x_min+x_max))/2\n",
    "\n",
    "#We define our grid (interface points will be repeated)\n",
    "x_grid = np.zeros(n_elements*n_nodes)\n",
    "for i in range(n_elements): \n",
    "    j = i*n_nodes\n",
    "    x_grid[j:j+n_nodes] = x_element+x[i]\n",
    "    print(f\"Element {i+1:}\\t {x_grid[j:j+n_nodes]}\")\n",
    "#print(x_grid)\n",
    "#print(x)"
   ]
  },
  {
   "cell_type": "markdown",
   "id": "71fd66b8",
   "metadata": {},
   "source": [
    "Setting initial conditions:\n",
    "$\n",
    "u(x,0) = \\sin(x).\n",
    "$"
   ]
  },
  {
   "cell_type": "code",
   "execution_count": 132,
   "id": "cae4a8cf",
   "metadata": {},
   "outputs": [
    {
     "data": {
      "image/png": "[encoded data removed]",
      "text/plain": [
       "<Figure size 432x288 with 1 Axes>"
      ]
     },
     "metadata": {
      "needs_background": "light"
     },
     "output_type": "display_data"
    }
   ],
   "source": [
    "u = np.sin(x_grid)\n",
    "plt.plot(x_grid,u, label='$u(x,0)=sin(x)$')\n",
    "plt.legend()\n",
    "plt.show()"
   ]
  },
  {
   "cell_type": "markdown",
   "id": "99939718",
   "metadata": {},
   "source": [
    "Obtaining local relevant SBP operators and resizing them over the whole grid with Kronecker products"
   ]
  },
  {
   "cell_type": "code",
   "execution_count": 187,
   "id": "0954526b",
   "metadata": {},
   "outputs": [],
   "source": [
    "#Local opretaros P and Q\n",
    "P_LGL, Q_LGL = first_order_P_Q(x_Lagrange_nodes=x_LGL)\n",
    "\n",
    "#Global operators P and Q\n",
    "P = np.kron(np.eye(n_elements), P_LGL)\n",
    "Q = np.kron(np.eye(n_elements), Q_LGL)\n",
    "\n",
    "#Restriction operators R, B\n",
    "#Local\n",
    "R_LGL = np.zeros((2,n_nodes))\n",
    "R_LGL[0,0] = R_LGL[-1,-1] = 1\n",
    "B_LGL = np.zeros((2,2))\n",
    "B_LGL[0,0] = 1; B_LGL[-1,-1]=-1\n",
    "#Global\n",
    "R = np.kron(np.eye(n_elements), R_LGL)\n",
    "B = np.kron(np.eye(n_elements), B_LGL)\n",
    "\n",
    "#Differential operator D\n",
    "#Local\n",
    "D_LGL = first_order_D(x_nodes=x_LGL)\n",
    "#Global\n",
    "D = np.kron(np.eye(n_elements), D_LGL)\n",
    "\n",
    "#Numerical flux\n",
    "#Local\n",
    "f_num_loc = lambda uL, uR : c*uL\n",
    "#Global\n",
    "def f_num(u,n_elements=n_elements,n_nodes=n_nodes):\n",
    "    #Fill numerical flux vector for first element\n",
    "    #Using periodic BCs\n",
    "    f = [c*u[-1],         #Left interface\n",
    "         c*u[n_nodes-1]]  #Right interface\n",
    "        #print(f\"inside loop\")\n",
    "    #Iterate through first and\n",
    "    for idx_elem in range(1,n_elements-1):\n",
    "        #Left interface\n",
    "        idx_R = idx_elem*n_nodes\n",
    "        idx_L = idx_R-1\n",
    "            #print(f\"Element {idx_elem+1}\")\n",
    "            #print(f\"Left interface\")\n",
    "            #print(f\"{idx_L, idx_R}\")\n",
    "\n",
    "        f.append(f_num_loc(u[idx_L],u[idx_R]))\n",
    "        \n",
    "        #Right interface\n",
    "        idx_R = (idx_elem+1)*n_nodes\n",
    "        idx_L = idx_R-1\n",
    "        #print(f\"Right interface\")\n",
    "        #print(f\"{idx_L, idx_R}\")\n",
    "        f.append(f_num_loc(u[idx_L],u[idx_R]))\n",
    "    #Fill numerical flux vector for last element\n",
    "    f.append(c*u[-n_nodes]) #Left interface\n",
    "    f.append(c*u[-1])       #Right interface\n",
    "        #print(f\"Last element\")\n",
    "        #print(f\"Left interface\")\n",
    "        #print(f\"{-n_nodes-1, -n_nodes}\")\n",
    "        #print(f\"Right interface\")\n",
    "        #print(f\"{n_nodes*n_elements-1, 0}\")\n",
    "    return np.array(f)\n",
    "    \n",
    "        \n",
    "\n",
    "\n",
    "def print_matrix(P):\n",
    "    for i in range(len(P[0])):\n",
    "        for j in range(len(P)):\n",
    "            print(np.round(P[i,j],1),end=' ')\n",
    "        print(\"\")\n",
    "    return None"
   ]
  },
  {
   "cell_type": "markdown",
   "id": "413c09bf",
   "metadata": {},
   "source": [
    "Debugging cell:"
   ]
  },
  {
   "cell_type": "code",
   "execution_count": 188,
   "id": "cbfd7e3d",
   "metadata": {},
   "outputs": [
    {
     "name": "stdout",
     "output_type": "stream",
     "text": [
      "Element 1\t 0   2\n",
      "Element 2\t 3   5\n",
      "Element 3\t 6   8\n",
      "Element 4\t 9   11\n",
      "Element 5\t 12   14\n",
      "Element 6\t 15   17\n",
      "Element 7\t 18   20\n",
      "Element 8\t 21   23\n",
      "Element 9\t 24   26\n"
     ]
    }
   ],
   "source": [
    "#We define our grid (interface points will be repeated)\n",
    "x_grid = np.zeros(n_elements*n_nodes)\n",
    "for i in range(n_elements): \n",
    "    j = i*n_nodes\n",
    "    x_grid[j:j+n_nodes] = x_element+x[i]\n",
    "    #print(f\"Element {i+1:}\\t {x_grid[j:j+n_nodes]}\")\n",
    "    print(f\"Element {i+1:}\\t {j}   {j+n_nodes-1}\")"
   ]
  },
  {
   "cell_type": "markdown",
   "id": "e0ec363a",
   "metadata": {},
   "source": [
    "Debugging cell:"
   ]
  },
  {
   "cell_type": "code",
   "execution_count": 190,
   "id": "1aa75f06",
   "metadata": {
    "scrolled": false
   },
   "outputs": [
    {
     "data": {
      "text/plain": [
       "18"
      ]
     },
     "execution_count": 190,
     "metadata": {},
     "output_type": "execute_result"
    }
   ],
   "source": [
    "f=f_num(u=u,n_elements=n_elements,n_nodes=n_nodes)\n",
    "len(f)"
   ]
  },
  {
   "cell_type": "markdown",
   "id": "04c217c3",
   "metadata": {},
   "source": [
    "Defining semi-discrete RHS operator"
   ]
  },
  {
   "cell_type": "code",
   "execution_count": null,
   "id": "4bebb875",
   "metadata": {},
   "outputs": [],
   "source": [
    "def RHS(u):\n",
    "    "
   ]
  },
  {
   "cell_type": "code",
   "execution_count": 118,
   "id": "3523adb7",
   "metadata": {},
   "outputs": [
    {
     "data": {
      "text/plain": [
       "array([1., 1.])"
      ]
     },
     "execution_count": 118,
     "metadata": {},
     "output_type": "execute_result"
    }
   ],
   "source": [
    "np.multiply(R_LGL@x_LGL,R_LGL@x_LGL)"
   ]
  },
  {
   "cell_type": "code",
   "execution_count": 119,
   "id": "31c4c37b",
   "metadata": {},
   "outputs": [
    {
     "data": {
      "text/plain": [
       "array([-1.,  0.,  1.])"
      ]
     },
     "execution_count": 119,
     "metadata": {},
     "output_type": "execute_result"
    }
   ],
   "source": [
    "x_LGL"
   ]
  }
 ],
 "metadata": {
  "kernelspec": {
   "display_name": "3.8.9",
   "language": "python",
   "name": "pyenv_3.8.9"
  },
  "language_info": {
   "codemirror_mode": {
    "name": "ipython",
    "version": 3
   },
   "file_extension": ".py",
   "mimetype": "text/x-python",
   "name": "python",
   "nbconvert_exporter": "python",
   "pygments_lexer": "ipython3",
   "version": "3.8.9"
  }
 },
 "nbformat": 4,
 "nbformat_minor": 5
}
