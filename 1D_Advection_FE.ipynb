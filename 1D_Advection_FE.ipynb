{
 "cells": [
  {
   "cell_type": "markdown",
   "id": "978c0303",
   "metadata": {},
   "source": [
    "## Advection equation using SBP Operators"
   ]
  },
  {
   "cell_type": "markdown",
   "id": "9bcb6c52",
   "metadata": {},
   "source": [
    "Let us solve the one-dimensional advection equation with periodic boundary conditions\n",
    "$$\n",
    "u_t + c u_x = 0\\;\\; \\text{on }[a,b], \\\\\n",
    "c>0, \\\\\n",
    "u(x,0)=u_0(x), \\\\\n",
    "u(a,t)=u(b,t).\n",
    "$$"
   ]
  },
  {
   "cell_type": "markdown",
   "id": "dfe1c0bd",
   "metadata": {},
   "source": [
    "Importing some libraries"
   ]
  },
  {
   "cell_type": "code",
   "execution_count": null,
   "id": "661b6d4f",
   "metadata": {},
   "outputs": [],
   "source": [
    "import numpy as np\n",
    "import matplotlib.pyplot as plt\n",
    "from basis_nodes import generate_lagrange_poly, generate_LGL_points\n",
    "from SBP_matrices import first_order_D, first_order_P_Q"
   ]
  },
  {
   "cell_type": "markdown",
   "id": "a41cbfa2",
   "metadata": {},
   "source": [
    "Defining parameters"
   ]
  },
  {
   "cell_type": "code",
   "execution_count": null,
   "id": "6c378408",
   "metadata": {},
   "outputs": [],
   "source": [
    "#Computational domain\n",
    "#Each element i will be enclosed by x_{i} and x_{i+1}\n",
    "n_elements = 50\n",
    "x = np.linspace(0,3*np.pi,n_elements+1)\n",
    "\n",
    "#Advection speed\n",
    "c = 1.\n",
    "#Spatial order of accuracy\n",
    "order_x = 4"
   ]
  },
  {
   "cell_type": "markdown",
   "id": "d05cc0ce",
   "metadata": {},
   "source": [
    "Computing nodes at reference element"
   ]
  },
  {
   "cell_type": "code",
   "execution_count": null,
   "id": "44cfbca7",
   "metadata": {},
   "outputs": [],
   "source": [
    "#We'll need a Lagrange basis of degree order_x-1\n",
    "#Thus, we will need order_x nodes in each element\n",
    "degree_basis = order_x-1\n",
    "(_, _,\n",
    "_, _,\n",
    "_, _,\n",
    "xi_LGL_unsorted, w_LGL_unsorted) = generate_LGL_points(degree_basis)\n",
    "\n",
    "#######################\n",
    "#######################\n",
    "#The root finder returns unsorted roots,\n",
    "#We fix that in these lines\n",
    "\n",
    "#Indexes that would sort x_LG using value\n",
    "sort_idxs_LGL = np.argsort(xi_LGL_unsorted)\n",
    "#Sorting x_LG and w_LG using those indexes\n",
    "xi_LGL = xi_LGL_unsorted[sort_idxs_LGL]\n",
    "w_LGL = w_LGL_unsorted[sort_idxs_LGL]\n",
    "#######################\n",
    "#######################\n",
    "\n",
    "n_nodes = len(xi_LGL)"
   ]
  },
  {
   "cell_type": "markdown",
   "id": "6399b06a",
   "metadata": {},
   "source": [
    "Mapping reference element to whole grid. The interface points are stored twice for simplicity."
   ]
  },
  {
   "cell_type": "code",
   "execution_count": null,
   "id": "a43269de",
   "metadata": {
    "scrolled": true
   },
   "outputs": [],
   "source": [
    "#We map the nodes from the reference element to one of the elements \n",
    "#from our computational domain (this suffices since we are using an uniform grid)\n",
    "x_min = x[0]\n",
    "x_max = x[1]\n",
    "\n",
    "#We just need to map the LGL nodes once since we are using a uniform grid\n",
    "x_element = (xi_LGL*(x_max-x_min)+(x_min+x_max))/2\n",
    "w_element = (x_max-x_min)*w_LGL\n",
    "list_elements = [x_element]\n",
    "\n",
    "#We define our grid (interface points will be repeated)\n",
    "x_grid = np.zeros(n_elements*n_nodes)\n",
    "print(f\"Numerical grid with double interface nodes\")\n",
    "for i in range(n_elements): \n",
    "    j = i*n_nodes\n",
    "    x_grid[j:j+n_nodes] = x_element+x[i]\n",
    "    list_elements.append(x_grid[j:j+n_nodes])\n",
    "    print(f\"Element {i+1:}\\t {x_grid[j:j+n_nodes]}\")\n"
   ]
  },
  {
   "cell_type": "markdown",
   "id": "c4f9edb4",
   "metadata": {},
   "source": [
    "Setting initial conditions:\n",
    "$\n",
    "u(x,0) = \\exp\\left({-5(x-\\pi)^2}\\right)%\\sin(x).\n",
    "$"
   ]
  },
  {
   "cell_type": "code",
   "execution_count": null,
   "id": "49a19ed8",
   "metadata": {},
   "outputs": [],
   "source": [
    "#u = np.sin(x_grid)\n",
    "initial_c = lambda x: np.exp(-5*(x-np.pi)**2)\n",
    "u0 = initial_c(x_grid)\n",
    "u = np.copy(u0)\n",
    "n_grid = len(u)\n",
    "plt.plot(x_grid,u0, label='$u(x,0)=\\exp({-5(x-\\pi)^2})$')\n",
    "plt.legend()\n",
    "plt.show()\n",
    "plt.close()"
   ]
  },
  {
   "cell_type": "markdown",
   "id": "964a75bd",
   "metadata": {},
   "source": [
    "Obtaining local relevant SBP operators and resizing them over the whole grid with Kronecker products"
   ]
  },
  {
   "cell_type": "code",
   "execution_count": null,
   "id": "188d1d46",
   "metadata": {
    "scrolled": true
   },
   "outputs": [],
   "source": [
    "#Local opretaros P and Q\n",
    "P_LGL, Q_LGL = first_order_P_Q(x_Lagrange_nodes=x_element, x_abcissae=x_element, w_abcissae=w_element)\n",
    "\n",
    "#Global operators P and Q\n",
    "P = np.kron(np.eye(n_elements), P_LGL)\n",
    "Q = np.kron(np.eye(n_elements), Q_LGL)\n",
    "\n",
    "#Restriction operators R, B\n",
    "#Local\n",
    "R_LGL = np.zeros((2,n_nodes))\n",
    "R_LGL[0,0] = R_LGL[-1,-1] = 1\n",
    "B_LGL = np.zeros((2,2))\n",
    "B_LGL[0,0] = 1; B_LGL[-1,-1]=-1\n",
    "#Global\n",
    "R = np.kron(np.eye(n_elements), R_LGL)\n",
    "B = np.kron(np.eye(n_elements), B_LGL)\n",
    "\n",
    "\n",
    "#Differential operator D\n",
    "#Local\n",
    "D_LGL = first_order_D(x_nodes=x_element)\n",
    "#Global\n",
    "D = np.kron(np.eye(n_elements), D_LGL)\n",
    "\n",
    "#Numerical flux\n",
    "#Local\n",
    "#f_num_loc = lambda uL, uR : c*(uL+uR)/2 #Centered flux\n",
    "f_num_loc = lambda uL, uR : c*uL #Upwind flux\n",
    "#Global\n",
    "#Global\n",
    "def f_num(u,n_elements=n_elements,n_nodes=n_nodes):\n",
    "    #Computing numerical flux just at the interface of elements\n",
    "    #Fill numerical flux vector for first element\n",
    "    #Using periodic BCs\n",
    "    f = [c*u[-1],         #Left interface\n",
    "         c*u[n_nodes-1]]  #Right interface\n",
    "    for idx_elem in range(1,n_elements-1):\n",
    "        #Left interface\n",
    "        idx_R = idx_elem*n_nodes\n",
    "        idx_L = idx_R-1\n",
    "        f.append(f_num_loc(u[idx_L],u[idx_R]))\n",
    "            #print(f\"Element {idx_elem+1}\")\n",
    "            #print(f\"Left interface\")\n",
    "            #print(f\"{idx_L, idx_R}\")\n",
    "        #Right interface\n",
    "        idx_R = (idx_elem+1)*n_nodes\n",
    "        idx_L = idx_R-1\n",
    "        f.append(f_num_loc(u[idx_L],u[idx_R]))\n",
    "            #print(f\"Right interface\")\n",
    "            #print(f\"{idx_L, idx_R}\")\n",
    "        \n",
    "    #Fill numerical flux vector for last element\n",
    "    f.append(c*u[-n_nodes-1]) #Left interface\n",
    "    f.append(c*u[-1])       #Right interface\n",
    "        #print(f\"Last element\")\n",
    "        #print(f\"Left interface\")\n",
    "        #print(f\"{-n_nodes-1, -n_nodes}\")\n",
    "        #print(f\"Right interface\")\n",
    "        #print(f\"{n_nodes*n_elements-1, 0}\")\n",
    "    return np.array(f)\n",
    "\n",
    "\n",
    "#Vector and matrix with advection speed\n",
    "c_vec = c*np.ones_like(u)\n",
    "c_mat = c*np.eye(len(u))\n",
    "\n",
    "\n",
    "def print_matrix(P):\n",
    "    for i in range(len(P[0])):\n",
    "        for j in range(len(P)):\n",
    "            print(np.round(P[i,j],1),end=' ')\n",
    "        print(\"\")\n",
    "    return None"
   ]
  },
  {
   "cell_type": "markdown",
   "id": "76e53997",
   "metadata": {},
   "source": [
    "Debugging cell:"
   ]
  },
  {
   "cell_type": "code",
   "execution_count": null,
   "id": "bfea13ca",
   "metadata": {},
   "outputs": [],
   "source": [
    "#We define our grid (interface points will be repeated)\n",
    "x_grid = np.zeros(n_elements*n_nodes)\n",
    "for i in range(n_elements): \n",
    "    j = i*n_nodes\n",
    "    x_grid[j:j+n_nodes] = x_element+x[i]\n",
    "    #print(f\"Element {i+1:}\\t {j}   {j+n_nodes-1}\")"
   ]
  },
  {
   "cell_type": "markdown",
   "id": "b70c1fc3",
   "metadata": {},
   "source": [
    "Debugging cell:"
   ]
  },
  {
   "cell_type": "code",
   "execution_count": null,
   "id": "3f2c1018",
   "metadata": {
    "scrolled": false
   },
   "outputs": [],
   "source": [
    "f=f_num(u=u,n_elements=n_elements,n_nodes=n_nodes)\n",
    "len(f)"
   ]
  },
  {
   "cell_type": "markdown",
   "id": "8f09eb90",
   "metadata": {},
   "source": [
    "Defining semi-discrete RHS operator"
   ]
  },
  {
   "cell_type": "code",
   "execution_count": null,
   "id": "be06c23e",
   "metadata": {},
   "outputs": [],
   "source": [
    "def RHS(t,u):\n",
    "    split_form_interior = -0.5*D@c_mat@u -0.5*c_mat@D@u -0.5*np.diag(u)@D@c_vec\n",
    "    elem_boundary_terms = np.linalg.inv(P)@R.T@B@(f_num(u=u)-c*R@u)\n",
    "    #print(np.max(f_num(u=u)-c*R@u))\n",
    "    return split_form_interior+elem_boundary_terms"
   ]
  },
  {
   "cell_type": "markdown",
   "id": "09e01370",
   "metadata": {},
   "source": [
    "Plotting the solution"
   ]
  },
  {
   "cell_type": "code",
   "execution_count": null,
   "id": "91022b26",
   "metadata": {
    "scrolled": false
   },
   "outputs": [],
   "source": [
    "from matplotlib.animation import FuncAnimation\n",
    "\n",
    "def plotting_sol(u_frames,x_grid, t_eval, plotexact):\n",
    "    # Set up the figure and axis\n",
    "    fig, ax = plt.subplots(dpi=150, figsize=[6,3])\n",
    "    ax.set_xlim(x_grid.min(), x_grid.max())\n",
    "    ax.set_ylim(u_frames[0].min()-0.5, u_frames[0].max()+0.5)\n",
    "    line_approx, = ax.plot(x_grid,u_frames[0])#ax.plot([], [])\n",
    "    \n",
    "    u_exact = np.array([initial_c(x_grid-c*time) for time in t_eval]) \n",
    "    if plotexact:\n",
    "        line_exact, = ax.plot(x_grid,u_exact[0], linestyle='dotted', color='r')\n",
    "    \n",
    "\n",
    "    def animate(i):\n",
    "        y_approx = u_frames[i]\n",
    "        line_approx.set_data(x_grid, y_approx)\n",
    "        if plotexact:\n",
    "            line_exact.set_data(x_grid, u_exact[i])\n",
    "            return line_approx, line_exact\n",
    "        else:\n",
    "            return line_approx,\n",
    "\n",
    "    import matplotlib\n",
    "    from matplotlib import animation\n",
    "    from IPython.display import HTML\n",
    "    anim = FuncAnimation(fig, animate,\n",
    "                                       frames=len(u_frames),\n",
    "                                       interval=200,\n",
    "                                       repeat=False)\n",
    "    plt.close()\n",
    "    return HTML(anim.to_jshtml())\n",
    "#plotting_sol(u_frames,x_grid)"
   ]
  },
  {
   "cell_type": "markdown",
   "id": "86b20cb0",
   "metadata": {},
   "source": [
    "## SciPy Time Integration"
   ]
  },
  {
   "cell_type": "code",
   "execution_count": null,
   "id": "0524c529",
   "metadata": {},
   "outputs": [],
   "source": [
    "from scipy.integrate import solve_ivp\n",
    "t_span = [0,5.]\n",
    "t_eval = np.linspace(t_span[0],t_span[1],20)\n",
    "sol = solve_ivp(fun=RHS, y0=u0, t_eval=t_eval, t_span=t_span)\n",
    "u_frames = sol.y.T\n",
    "plotting_sol(u_frames, x_grid, t_eval, plotexact=True)"
   ]
  },
  {
   "cell_type": "code",
   "execution_count": null,
   "id": "6be66503",
   "metadata": {},
   "outputs": [],
   "source": [
    "#Computing numerical flux between each pair of nodes\n",
    "#def f_num(u,n_elements=n_elements,n_nodes=n_nodes):\n",
    "    #Fill numerical flux vector for first element\n",
    "    #Using periodic BCs\n",
    "    #f = []\n",
    "    #for idx_node in range(len(u)):\n",
    "        #Left interface of node idx_node\n",
    "    #    L = idx_node-1; R = idx_node\n",
    "    #    f.append(f_num_loc(u[L],u[R]))\n",
    "    #return np.array(f)"
   ]
  },
  {
   "cell_type": "markdown",
   "id": "6e1f5c96",
   "metadata": {},
   "source": [
    "### Custom Time Integration\n",
    "Defining a time integrator for explicit  RK schemes"
   ]
  },
  {
   "cell_type": "code",
   "execution_count": null,
   "id": "51dd3caf",
   "metadata": {},
   "outputs": [],
   "source": [
    "def RK(u0, A, b, c, dt, tfinal):\n",
    "    n = len(u0)\n",
    "    t = 0.0\n",
    "    u = u0\n",
    "    u_frames = [u0]\n",
    "    while t < tfinal:\n",
    "        k = np.zeros((n, len(c)))\n",
    "        for j in range(len(c)):\n",
    "            uj = u + dt*np.dot(k, A[j])\n",
    "            k[:, j] = RHS(t,uj)#, t + c[j]*dt)\n",
    "        u = u + dt*np.dot(k, b)\n",
    "        u_frames.append(u)\n",
    "        t = t + dt\n",
    "    return u_frames"
   ]
  },
  {
   "cell_type": "markdown",
   "id": "cc81cb92",
   "metadata": {},
   "source": [
    "Using Heun's method with Butcher tableau\n",
    "\n",
    "\\begin{array}{c|ccc}\n",
    "0   & 0   & 0   & 0    \\\\\n",
    "1/3 & 1/3 & 0   & 0    \\\\\n",
    "2/3 & 0   & 2/3 & 0    \\\\\n",
    "\\hline\n",
    "    & 1/4 & 0   & 3/4  \\\\\n",
    "\\end{array}"
   ]
  },
  {
   "cell_type": "code",
   "execution_count": null,
   "id": "f66044c0",
   "metadata": {},
   "outputs": [],
   "source": [
    "A_Heun = np.array([[0., 0., 0.],\n",
    "                   [1./3., 0., 0.],\n",
    "                   [0., 2./3., 0.] ])\n",
    "b_Heun = np.array([0.25, 0., 0.75])\n",
    "c_Heun = np.array([0., 1./3., 2./3.])"
   ]
  },
  {
   "cell_type": "markdown",
   "id": "82e5b7de",
   "metadata": {},
   "source": [
    "Discretizing in time with custom RK integration"
   ]
  },
  {
   "cell_type": "code",
   "execution_count": null,
   "id": "c9ce17a3",
   "metadata": {},
   "outputs": [],
   "source": [
    "#For nonlinear fluxes the time step should be computed at each time inside the time integrator\n",
    "dx = np.min(np.diff(x_grid[:n_nodes]))\n",
    "CFL = 0.5\n",
    "dt = CFL*c*dx\n",
    "#u_frames = RK(u0=u0, A=A_Heun, b=b_Heun, c=c_Heun, dt=dt, tfinal=10.)"
   ]
  },
  {
   "cell_type": "code",
   "execution_count": null,
   "id": "a0ed90f2",
   "metadata": {},
   "outputs": [],
   "source": [
    "n_nodes = 4\n",
    "u=np.ones(n_nodes); u[0]=1; u[-1]=2\n",
    "#Restriction operators R, B\n",
    "#Local\n",
    "R_LGL = np.zeros((2,n_nodes))\n",
    "R_LGL[0,0] = R_LGL[-1,-1] = 1\n",
    "B_LGL = np.zeros((2,2))\n",
    "B_LGL[0,0] = 1; B_LGL[-1,-1]=-1"
   ]
  },
  {
   "cell_type": "code",
   "execution_count": null,
   "id": "ae2d6606",
   "metadata": {},
   "outputs": [],
   "source": [
    "R_LGL@u\n",
    "B_LGL@R_LGL@u\n",
    "a=R_LGL.T@B_LGL@R_LGL@u\n",
    "np.round(np.linalg.inv(P_LGL)@a,2)\n",
    "#np.round(D_LGL,2)"
   ]
  }
 ],
 "metadata": {
  "kernelspec": {
   "display_name": "3.8.9",
   "language": "python",
   "name": "pyenv_3.8.9"
  },
  "language_info": {
   "codemirror_mode": {
    "name": "ipython",
    "version": 3
   },
   "file_extension": ".py",
   "mimetype": "text/x-python",
   "name": "python",
   "nbconvert_exporter": "python",
   "pygments_lexer": "ipython3",
   "version": "3.8.9"
  }
 },
 "nbformat": 4,
 "nbformat_minor": 5
}
