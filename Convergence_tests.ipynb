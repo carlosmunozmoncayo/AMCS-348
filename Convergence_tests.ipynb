{
 "cells": [
  {
   "cell_type": "markdown",
   "metadata": {},
   "source": [
    "# Convergence tests"
   ]
  },
  {
   "cell_type": "markdown",
   "metadata": {},
   "source": [
    "## Linear Advection with Constant Coefficient"
   ]
  },
  {
   "cell_type": "code",
   "execution_count": 8,
   "metadata": {},
   "outputs": [],
   "source": [
    "import math\n",
    "import numpy as np\n",
    "import matplotlib.pyplot as plt\n",
    "\n",
    "#Local libraries\n",
    "from basis_nodes import generate_lagrange_poly, generate_LGL_points\n",
    "from SBP_matrices import first_order_D, first_order_P_Q\n",
    "from RHS_1D_advection import generate_RHS_1D_advection\n",
    "from SSPRK import SSPRK33"
   ]
  },
  {
   "cell_type": "code",
   "execution_count": 9,
   "metadata": {},
   "outputs": [],
   "source": [
    "#Define physical domain\n",
    "xlower = 0.\n",
    "xupper = 2.\n",
    "\n",
    "#Advection speed\n",
    "c_advection = 1.\n",
    "\n",
    "#Define initial conditions for convergence test\n",
    "initial_c = lambda x: np.exp(-50*(x-1)**2)+1\n",
    "\n",
    "#Define exact solution (Periodic boundary conditions)\n",
    "\n",
    "def periodic_function(func, period, offset):\n",
    "    return lambda x: func( ((x - offset) % period ) + offset )\n",
    "def exact_sol(x,t):\n",
    "    toeval = periodic_function(initial_c,xupper-xlower,0.)\n",
    "    return toeval(x-c_advection*t)"
   ]
  },
  {
   "cell_type": "code",
   "execution_count": 10,
   "metadata": {},
   "outputs": [
    {
     "name": "stderr",
     "output_type": "stream",
     "text": [
      "/Users/munozmca/Desktop/Courses/Spring_2023/SBP_Operators_AMCS348/basis_nodes.py:21: RuntimeWarning: invalid value encountered in divide\n",
      "  return np.prod((x-x_nodes)/(xj-x_nodes), where = mask)\n",
      "/Users/munozmca/Desktop/Courses/Spring_2023/SBP_Operators_AMCS348/basis_nodes.py:21: RuntimeWarning: divide by zero encountered in divide\n",
      "  return np.prod((x-x_nodes)/(xj-x_nodes), where = mask)\n"
     ]
    }
   ],
   "source": [
    "#Spatial refinement\n",
    "ref_level = 5\n",
    "list_RHS = [[] for i in range(ref_level)]\n",
    "list_xgrids = [[] for i in range(ref_level)]\n",
    "list_xiLGL = [[] for i in range(ref_level)]\n",
    "\n",
    "h_refinement = [ref_level*2**i for i in range(ref_level)]\n",
    "p_refinement = [2**i for i in range(ref_level)]\n",
    "\n",
    "for idx, h in enumerate(h_refinement):\n",
    "    for p in p_refinement:\n",
    "        RHS_local, xgrid_local, xiLGL_local = generate_RHS_1D_advection(xlower=xlower,\n",
    "        xupper=xupper, n_elements=h,order_x=p,\n",
    "        c_advection=c_advection,BC=\"periodic\",num_flux_type=\"upwind\")\n",
    "        list_RHS[idx].append(RHS_local)\n",
    "        list_xgrids[idx].append(xgrid_local)\n",
    "        list_xiLGL[idx].append(xiLGL_local)"
   ]
  },
  {
   "cell_type": "code",
   "execution_count": 16,
   "metadata": {},
   "outputs": [
    {
     "name": "stdout",
     "output_type": "stream",
     "text": [
      "0.04000000000000001\n",
      "0.04000000000000001\n",
      "0.04000000000000001\n",
      "0.04000000000000001\n",
      "0.04000000000000001\n",
      "0.020000000000000004\n",
      "0.020000000000000004\n",
      "0.020000000000000004\n",
      "0.020000000000000004\n",
      "0.020000000000000004\n"
     ]
    },
    {
     "name": "stderr",
     "output_type": "stream",
     "text": [
      "/Users/munozmca/Desktop/Courses/Spring_2023/SBP_Operators_AMCS348/RHS_1D_advection.py:127: RuntimeWarning: overflow encountered in multiply\n",
      "  return (1./len_element)*(non_split_form_interior+elem_boundary_terms)\n",
      "/Users/munozmca/Desktop/Courses/Spring_2023/SBP_Operators_AMCS348/RHS_1D_advection.py:124: RuntimeWarning: invalid value encountered in matmul\n",
      "  split_form_interior = -0.5*D@c_mat@u -0.5*c_mat@D@u -0.5*np.diag(u)@D@c_vec\n",
      "/Users/munozmca/Desktop/Courses/Spring_2023/SBP_Operators_AMCS348/RHS_1D_advection.py:125: RuntimeWarning: invalid value encountered in matmul\n",
      "  non_split_form_interior = -c_advection*D@u\n",
      "/Users/munozmca/Desktop/Courses/Spring_2023/SBP_Operators_AMCS348/RHS_1D_advection.py:126: RuntimeWarning: invalid value encountered in matmul\n",
      "  elem_boundary_terms = -diagPinv*(R.T@B@(f_num(u=u)-c_advection*R@u))\n"
     ]
    },
    {
     "name": "stdout",
     "output_type": "stream",
     "text": [
      "0.010000000000000002\n",
      "0.010000000000000002\n",
      "0.010000000000000002\n",
      "0.010000000000000002\n",
      "0.010000000000000002\n",
      "0.005000000000000001\n",
      "0.005000000000000001\n",
      "0.005000000000000001\n",
      "0.005000000000000001\n",
      "0.005000000000000001\n",
      "0.0025000000000000005\n",
      "0.0025000000000000005\n",
      "0.0025000000000000005\n",
      "0.0025000000000000005\n",
      "0.0025000000000000005\n"
     ]
    }
   ],
   "source": [
    "#Computing errors\n",
    "tfinal = 4.\n",
    "CLF=0.1\n",
    "error_list = [[] for i in range(ref_level)]\n",
    "for i in range(ref_level):\n",
    "    #h refinement\n",
    "    for j in range(ref_level):\n",
    "    #p refinement\n",
    "        #Compute time step\n",
    "        n_nodes = p_refinement[j]\n",
    "        dx = (xupper-xlower)/h_refinement[i]\n",
    "        dt = CLF*dx/c_advection\n",
    "        print(dt)\n",
    "        #Compute numerical solution\n",
    "        u0 = initial_c(list_xgrids[i][j])\n",
    "        u_frames, t_eval = SSPRK33(fun=list_RHS[i][j], u0=u0, dt=dt, t0=0.,tfinal=tfinal, nframes=2)\n",
    "        #Compute error\n",
    "        u_numerical = u_frames[-1]\n",
    "        #Compute exact solution\n",
    "        u_exact = exact_sol(list_xgrids[i][j],t_eval[-1]) \n",
    "        #Compute error\n",
    "        error = np.linalg.norm(u_numerical-u_exact,ord=2)/np.linalg.norm(u_exact,ord=2)\n",
    "        error_list[i].append(error)"
   ]
  },
  {
   "cell_type": "code",
   "execution_count": 18,
   "metadata": {},
   "outputs": [
    {
     "data": {
      "text/html": [
       "<div>\n",
       "<style scoped>\n",
       "    .dataframe tbody tr th:only-of-type {\n",
       "        vertical-align: middle;\n",
       "    }\n",
       "\n",
       "    .dataframe tbody tr th {\n",
       "        vertical-align: top;\n",
       "    }\n",
       "\n",
       "    .dataframe thead th {\n",
       "        text-align: right;\n",
       "    }\n",
       "</style>\n",
       "<table border=\"1\" class=\"dataframe\">\n",
       "  <thead>\n",
       "    <tr style=\"text-align: right;\">\n",
       "      <th></th>\n",
       "      <th>1</th>\n",
       "      <th>2</th>\n",
       "      <th>4</th>\n",
       "      <th>8</th>\n",
       "      <th>16</th>\n",
       "    </tr>\n",
       "  </thead>\n",
       "  <tbody>\n",
       "    <tr>\n",
       "      <th>5</th>\n",
       "      <td>0.0</td>\n",
       "      <td>0.0</td>\n",
       "      <td>0.0</td>\n",
       "      <td>8.313470e+10</td>\n",
       "      <td>5.066482e+102</td>\n",
       "    </tr>\n",
       "    <tr>\n",
       "      <th>10</th>\n",
       "      <td>0.0</td>\n",
       "      <td>0.0</td>\n",
       "      <td>0.0</td>\n",
       "      <td>1.694085e+37</td>\n",
       "      <td>inf</td>\n",
       "    </tr>\n",
       "    <tr>\n",
       "      <th>20</th>\n",
       "      <td>0.0</td>\n",
       "      <td>0.0</td>\n",
       "      <td>0.0</td>\n",
       "      <td>7.034621e+89</td>\n",
       "      <td>NaN</td>\n",
       "    </tr>\n",
       "    <tr>\n",
       "      <th>40</th>\n",
       "      <td>0.0</td>\n",
       "      <td>0.0</td>\n",
       "      <td>0.0</td>\n",
       "      <td>inf</td>\n",
       "      <td>NaN</td>\n",
       "    </tr>\n",
       "    <tr>\n",
       "      <th>80</th>\n",
       "      <td>0.0</td>\n",
       "      <td>0.0</td>\n",
       "      <td>0.0</td>\n",
       "      <td>NaN</td>\n",
       "      <td>NaN</td>\n",
       "    </tr>\n",
       "  </tbody>\n",
       "</table>\n",
       "</div>"
      ],
      "text/plain": [
       "     1    2    4             8              16\n",
       "5   0.0  0.0  0.0  8.313470e+10  5.066482e+102\n",
       "10  0.0  0.0  0.0  1.694085e+37            inf\n",
       "20  0.0  0.0  0.0  7.034621e+89            NaN\n",
       "40  0.0  0.0  0.0           inf            NaN\n",
       "80  0.0  0.0  0.0           NaN            NaN"
      ]
     },
     "execution_count": 18,
     "metadata": {},
     "output_type": "execute_result"
    }
   ],
   "source": [
    "#Create a rate of convergence table with the errors\n",
    "#Using pandas, but showing the rate of convergence\n",
    "#instead of the error\n",
    "import pandas as pd\n",
    "df = pd.DataFrame(error_list)\n",
    "df.columns = p_refinement\n",
    "df.index = h_refinement\n",
    "df\n",
    "\n"
   ]
  },
  {
   "cell_type": "code",
   "execution_count": null,
   "metadata": {},
   "outputs": [],
   "source": []
  }
 ],
 "metadata": {
  "kernelspec": {
   "display_name": "3.8.9",
   "language": "python",
   "name": "pyenv_3.8.9"
  },
  "language_info": {
   "codemirror_mode": {
    "name": "ipython",
    "version": 3
   },
   "file_extension": ".py",
   "mimetype": "text/x-python",
   "name": "python",
   "nbconvert_exporter": "python",
   "pygments_lexer": "ipython3",
   "version": "3.8.9"
  },
  "orig_nbformat": 4
 },
 "nbformat": 4,
 "nbformat_minor": 2
}
