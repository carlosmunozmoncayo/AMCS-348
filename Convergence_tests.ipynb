{
 "cells": [
  {
   "cell_type": "markdown",
   "metadata": {},
   "source": [
    "# Convergence tests"
   ]
  },
  {
   "cell_type": "markdown",
   "metadata": {},
   "source": [
    "## Linear Advection with Constant Coefficient"
   ]
  },
  {
   "cell_type": "code",
   "execution_count": 132,
   "metadata": {},
   "outputs": [],
   "source": [
    "import math\n",
    "import numpy as np\n",
    "import matplotlib.pyplot as plt\n",
    "import pandas as pd\n",
    "\n",
    "\n",
    "#Local libraries\n",
    "from basis_nodes import generate_lagrange_poly, generate_LGL_points\n",
    "from SBP_matrices import first_order_D, first_order_P_Q\n",
    "from RHS_1D_advection import generate_RHS_1D_advection\n",
    "from SSPRK import SSPRK33"
   ]
  },
  {
   "cell_type": "markdown",
   "metadata": {},
   "source": [
    "### Defining problem and exact solution to test convergence"
   ]
  },
  {
   "cell_type": "code",
   "execution_count": 133,
   "metadata": {},
   "outputs": [],
   "source": [
    "#Define physical domain\n",
    "xlower = 0.\n",
    "xupper = 2.\n",
    "\n",
    "#Advection speed\n",
    "c_advection = 1.\n",
    "\n",
    "#Define initial conditions for convergence test\n",
    "initial_c = lambda x: np.exp(-50*(x-1)**2)+1\n",
    "\n",
    "#Define exact solution (Periodic boundary conditions)\n",
    "\n",
    "def periodic_function(func, period, offset):\n",
    "    return lambda x: func( ((x - offset) % period ) + offset )\n",
    "def exact_sol(x,t):\n",
    "    toeval = periodic_function(initial_c,xupper-xlower,0.)\n",
    "    return toeval(x-c_advection*t)"
   ]
  },
  {
   "cell_type": "markdown",
   "metadata": {},
   "source": [
    "### Different combinations of DOFs"
   ]
  },
  {
   "cell_type": "code",
   "execution_count": 134,
   "metadata": {},
   "outputs": [],
   "source": [
    "#Spatial refinement\n",
    "h_refinement = np.array([5,10,20,40,80]) #Number of elements\n",
    "p_refinement = np.array([3,4,5,6,7]) #Number of nodes per element\n",
    "\n",
    "ref_level_h = len(h_refinement)\n",
    "ref_level_p = len(p_refinement)"
   ]
  },
  {
   "cell_type": "code",
   "execution_count": 135,
   "metadata": {},
   "outputs": [
    {
     "name": "stderr",
     "output_type": "stream",
     "text": [
      "/Users/munozmca/Desktop/Courses/Spring_2023/SBP_Operators_AMCS348/basis_nodes.py:21: RuntimeWarning: invalid value encountered in divide\n",
      "  return np.prod((x-x_nodes)/(xj-x_nodes), where = mask)\n",
      "/Users/munozmca/Desktop/Courses/Spring_2023/SBP_Operators_AMCS348/basis_nodes.py:21: RuntimeWarning: divide by zero encountered in divide\n",
      "  return np.prod((x-x_nodes)/(xj-x_nodes), where = mask)\n"
     ]
    }
   ],
   "source": [
    "#Useful function\n",
    "min_array_not_zero = lambda array: np.min(array[array>1.e-16])\n",
    "\n",
    "#Computing errors\n",
    "tfinal = 1.\n",
    "CFL=0.8\n",
    "error_list = [[] for i in range(ref_level_h)]\n",
    "for idx_h in range(ref_level_h):\n",
    "    #h refinement\n",
    "    h = h_refinement[idx_h]\n",
    "    for idx_p in range(ref_level_p):\n",
    "        #p refinement\n",
    "        p = p_refinement[idx_p]\n",
    "\n",
    "        #Get RHS\n",
    "        RHS_local, xgrid_local, xiLGL_local = generate_RHS_1D_advection(xlower=xlower,\n",
    "        xupper=xupper, n_elements=h,order_x=p,\n",
    "        c_advection=c_advection,BC=\"periodic\",num_flux_type=\"upwind\")\n",
    "\n",
    "        #Compute time step\n",
    "        dx = np.min(np.diff(xgrid_local[:p]))\n",
    "        dxi = np.min(np.diff(xiLGL_local))\n",
    "        dt = CFL*dx*dxi/c_advection/2\n",
    "\n",
    "        #Compute numerical solution\n",
    "        u0 = initial_c(xgrid_local)\n",
    "        u_frames, t_eval = SSPRK33(fun=RHS_local, u0=u0, dt=dt, t0=0.,tfinal=tfinal, nframes=2)\n",
    "\n",
    "        #Compute error\n",
    "        u_numerical = u_frames[-1]\n",
    "        #Compute exact solution\n",
    "        u_exact = exact_sol(xgrid_local,t_eval[-1]) \n",
    "        #Compute erro\n",
    "        error = np.linalg.norm(u_numerical-u_exact,ord=2)*np.sqrt(dx)\n",
    "        error_list[idx_h].append(error)"
   ]
  },
  {
   "cell_type": "code",
   "execution_count": 136,
   "metadata": {},
   "outputs": [
    {
     "name": "stdout",
     "output_type": "stream",
     "text": [
      "Errors\n"
     ]
    },
    {
     "data": {
      "text/html": [
       "<div>\n",
       "<style scoped>\n",
       "    .dataframe tbody tr th:only-of-type {\n",
       "        vertical-align: middle;\n",
       "    }\n",
       "\n",
       "    .dataframe tbody tr th {\n",
       "        vertical-align: top;\n",
       "    }\n",
       "\n",
       "    .dataframe thead th {\n",
       "        text-align: right;\n",
       "    }\n",
       "</style>\n",
       "<table border=\"1\" class=\"dataframe\">\n",
       "  <thead>\n",
       "    <tr style=\"text-align: right;\">\n",
       "      <th>p</th>\n",
       "      <th>3</th>\n",
       "      <th>4</th>\n",
       "      <th>5</th>\n",
       "      <th>6</th>\n",
       "      <th>7</th>\n",
       "    </tr>\n",
       "    <tr>\n",
       "      <th>N</th>\n",
       "      <th></th>\n",
       "      <th></th>\n",
       "      <th></th>\n",
       "      <th></th>\n",
       "      <th></th>\n",
       "    </tr>\n",
       "  </thead>\n",
       "  <tbody>\n",
       "    <tr>\n",
       "      <th>5</th>\n",
       "      <td>0.234724</td>\n",
       "      <td>0.126404</td>\n",
       "      <td>0.056383</td>\n",
       "      <td>0.024254</td>\n",
       "      <td>0.010903</td>\n",
       "    </tr>\n",
       "    <tr>\n",
       "      <th>10</th>\n",
       "      <td>0.126570</td>\n",
       "      <td>0.047250</td>\n",
       "      <td>0.015564</td>\n",
       "      <td>0.006071</td>\n",
       "      <td>0.002931</td>\n",
       "    </tr>\n",
       "    <tr>\n",
       "      <th>20</th>\n",
       "      <td>0.069584</td>\n",
       "      <td>0.019312</td>\n",
       "      <td>0.006585</td>\n",
       "      <td>0.002757</td>\n",
       "      <td>0.001322</td>\n",
       "    </tr>\n",
       "    <tr>\n",
       "      <th>40</th>\n",
       "      <td>0.036333</td>\n",
       "      <td>0.009573</td>\n",
       "      <td>0.003298</td>\n",
       "      <td>0.001380</td>\n",
       "      <td>0.000661</td>\n",
       "    </tr>\n",
       "    <tr>\n",
       "      <th>80</th>\n",
       "      <td>0.018262</td>\n",
       "      <td>0.004783</td>\n",
       "      <td>0.001649</td>\n",
       "      <td>0.000690</td>\n",
       "      <td>0.000331</td>\n",
       "    </tr>\n",
       "  </tbody>\n",
       "</table>\n",
       "</div>"
      ],
      "text/plain": [
       "p          3         4         5         6         7\n",
       "N                                                   \n",
       "5   0.234724  0.126404  0.056383  0.024254  0.010903\n",
       "10  0.126570  0.047250  0.015564  0.006071  0.002931\n",
       "20  0.069584  0.019312  0.006585  0.002757  0.001322\n",
       "40  0.036333  0.009573  0.003298  0.001380  0.000661\n",
       "80  0.018262  0.004783  0.001649  0.000690  0.000331"
      ]
     },
     "execution_count": 136,
     "metadata": {},
     "output_type": "execute_result"
    }
   ],
   "source": [
    "#Displaying results\n",
    "df = pd.DataFrame(error_list)\n",
    "df.columns = p_refinement\n",
    "df.index = h_refinement\n",
    "#Adding the proper headers\n",
    "df.columns.name = \"p\"\n",
    "df.index.name = \"N\"\n",
    "print(\"Errors\")\n",
    "df"
   ]
  },
  {
   "cell_type": "code",
   "execution_count": 137,
   "metadata": {},
   "outputs": [
    {
     "data": {
      "text/html": [
       "<div>\n",
       "<style scoped>\n",
       "    .dataframe tbody tr th:only-of-type {\n",
       "        vertical-align: middle;\n",
       "    }\n",
       "\n",
       "    .dataframe tbody tr th {\n",
       "        vertical-align: top;\n",
       "    }\n",
       "\n",
       "    .dataframe thead th {\n",
       "        text-align: right;\n",
       "    }\n",
       "</style>\n",
       "<table border=\"1\" class=\"dataframe\">\n",
       "  <thead>\n",
       "    <tr style=\"text-align: right;\">\n",
       "      <th></th>\n",
       "      <th>7</th>\n",
       "      <th>rate</th>\n",
       "    </tr>\n",
       "    <tr>\n",
       "      <th>N</th>\n",
       "      <th></th>\n",
       "      <th></th>\n",
       "    </tr>\n",
       "  </thead>\n",
       "  <tbody>\n",
       "    <tr>\n",
       "      <th>5</th>\n",
       "      <td>0.010903</td>\n",
       "      <td>NaN</td>\n",
       "    </tr>\n",
       "    <tr>\n",
       "      <th>10</th>\n",
       "      <td>0.002931</td>\n",
       "      <td>1.895219</td>\n",
       "    </tr>\n",
       "    <tr>\n",
       "      <th>20</th>\n",
       "      <td>0.001322</td>\n",
       "      <td>1.148164</td>\n",
       "    </tr>\n",
       "    <tr>\n",
       "      <th>40</th>\n",
       "      <td>0.000661</td>\n",
       "      <td>0.999528</td>\n",
       "    </tr>\n",
       "    <tr>\n",
       "      <th>80</th>\n",
       "      <td>0.000331</td>\n",
       "      <td>1.000000</td>\n",
       "    </tr>\n",
       "  </tbody>\n",
       "</table>\n",
       "</div>"
      ],
      "text/plain": [
       "           7      rate\n",
       "N                     \n",
       "5   0.010903       NaN\n",
       "10  0.002931  1.895219\n",
       "20  0.001322  1.148164\n",
       "40  0.000661  0.999528\n",
       "80  0.000331  1.000000"
      ]
     },
     "execution_count": 137,
     "metadata": {},
     "output_type": "execute_result"
    }
   ],
   "source": [
    "#Errors for p=3\n",
    "error_p3 = pd.DataFrame(df[7])\n",
    "#Putting a title on error_p3\n",
    "error_p3.name = \"p=3\"\n",
    "\n",
    "#Adding a column to error_p3\n",
    "col_values = np.log(error_p3.iloc[1:,0].values/error_p3.iloc[:-1,0].values)/np.log(1/2)\n",
    "col_values = np.append(np.nan,col_values)\n",
    "error_p3[\"rate\"] = col_values\n",
    "error_p3"
   ]
  }
 ],
 "metadata": {
  "kernelspec": {
   "display_name": "3.8.9",
   "language": "python",
   "name": "pyenv_3.8.9"
  },
  "language_info": {
   "codemirror_mode": {
    "name": "ipython",
    "version": 3
   },
   "file_extension": ".py",
   "mimetype": "text/x-python",
   "name": "python",
   "nbconvert_exporter": "python",
   "pygments_lexer": "ipython3",
   "version": "3.8.9"
  },
  "orig_nbformat": 4
 },
 "nbformat": 4,
 "nbformat_minor": 2
}
