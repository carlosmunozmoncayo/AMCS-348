{
 "cells": [
  {
   "cell_type": "markdown",
   "metadata": {},
   "source": [
    "# Convergence tests"
   ]
  },
  {
   "cell_type": "markdown",
   "metadata": {},
   "source": [
    "## Linear Advection with Constant Coefficient"
   ]
  },
  {
   "cell_type": "code",
   "execution_count": null,
   "metadata": {},
   "outputs": [],
   "source": [
    "import math\n",
    "import numpy as np\n",
    "import matplotlib.pyplot as plt\n",
    "import pandas as pd\n",
    "\n",
    "\n",
    "#Local libraries\n",
    "from basis_nodes import generate_lagrange_poly, generate_LGL_points\n",
    "from SBP_matrices import first_order_D, first_order_P_Q\n",
    "from RHS_1D_advection import generate_RHS_1D_advection\n",
    "from SSPRK import SSPRK33"
   ]
  },
  {
   "cell_type": "markdown",
   "metadata": {},
   "source": [
    "### Defining problem and exact solution to test convergence"
   ]
  },
  {
   "cell_type": "code",
   "execution_count": null,
   "metadata": {},
   "outputs": [],
   "source": [
    "#Define physical domain\n",
    "xlower = 0.\n",
    "xupper = 2.\n",
    "\n",
    "#Advection speed\n",
    "c_advection = 1.\n",
    "\n",
    "#Define initial conditions for convergence test\n",
    "initial_c = lambda x: np.exp(-50*(x-1)**2)+1\n",
    "\n",
    "#Define exact solution (Periodic boundary conditions)\n",
    "\n",
    "def periodic_function(func, period, offset):\n",
    "    return lambda x: func( ((x - offset) % period ) + offset )\n",
    "def exact_sol(x,t):\n",
    "    toeval = periodic_function(initial_c,xupper-xlower,0.)\n",
    "    return toeval(x-c_advection*t)"
   ]
  },
  {
   "cell_type": "markdown",
   "metadata": {},
   "source": [
    "### Different combinations of DOFs"
   ]
  },
  {
   "cell_type": "code",
   "execution_count": null,
   "metadata": {},
   "outputs": [],
   "source": [
    "#Spatial refinement\n",
    "h_refinement = np.array([5,10,20,40,80]) #Number of elements\n",
    "p_refinement = np.array([3,4,5,6,7]) #Number of nodes per element\n",
    "\n",
    "ref_level_h = len(h_refinement)\n",
    "ref_level_p = len(p_refinement)"
   ]
  },
  {
   "cell_type": "code",
   "execution_count": null,
   "metadata": {},
   "outputs": [],
   "source": [
    "#Computing errors\n",
    "tfinal = 1.\n",
    "CFL=0.8\n",
    "error_list = [[] for i in range(ref_level_h)]\n",
    "for idx_h in range(ref_level_h):\n",
    "    #h refinement\n",
    "    h = h_refinement[idx_h]\n",
    "    for idx_p in range(ref_level_p):\n",
    "        #p refinement\n",
    "        p = p_refinement[idx_p]\n",
    "\n",
    "        #Get RHS\n",
    "        RHS_local, xgrid_local, xiLGL_local = generate_RHS_1D_advection(xlower=xlower,\n",
    "        xupper=xupper, n_elements=h,order_x=p,\n",
    "        c_advection=c_advection,BC=\"periodic\",num_flux_type=\"upwind\")\n",
    "\n",
    "        #Compute time step\n",
    "        dx = np.min(np.diff(xgrid_local[:p]))\n",
    "        dxi = np.min(np.diff(xiLGL_local))\n",
    "        dt = CFL*dx*dxi/c_advection/2\n",
    "\n",
    "        #Compute numerical solution\n",
    "        u0 = initial_c(xgrid_local)\n",
    "        u_frames, t_eval = SSPRK33(fun=RHS_local, u0=u0, dt=dt, t0=0.,tfinal=tfinal, nframes=2)\n",
    "\n",
    "        #Compute error\n",
    "        u_numerical = u_frames[-1]\n",
    "        #Compute exact solution\n",
    "        u_exact = exact_sol(xgrid_local,t_eval[-1]) \n",
    "        #Compute error\n",
    "        error = np.linalg.norm(u_numerical-u_exact,ord=2)/np.linalg.norm(u_exact,ord=2)\n",
    "        error_list[idx_h].append(error)"
   ]
  },
  {
   "cell_type": "code",
   "execution_count": null,
   "metadata": {},
   "outputs": [],
   "source": [
    "#Displaying results\n",
    "df = pd.DataFrame(error_list)\n",
    "df.columns = p_refinement\n",
    "df.index = h_refinement\n",
    "#Adding the proper headers\n",
    "df.columns.name = \"p\"\n",
    "df.index.name = \"h\"\n",
    "#Computing the rate of convergence\n",
    "df"
   ]
  },
  {
   "cell_type": "markdown",
   "metadata": {},
   "source": [
    "### Fixed h=50"
   ]
  },
  {
   "cell_type": "code",
   "execution_count": null,
   "metadata": {},
   "outputs": [],
   "source": [
    "#Spatial refinement\n",
    "h_refinement = np.array([50]) #Number of elements\n",
    "p_refinement = np.array([3,4,5,6,7]) #Number of nodes per element\n",
    "\n",
    "ref_level_h = len(h_refinement)\n",
    "ref_level_p = len(p_refinement)\n",
    "\n",
    "#Computing errors\n",
    "tfinal = 1.\n",
    "CFL=0.8\n",
    "error_list = [[] for i in range(ref_level)]\n",
    "for idx_h in range(ref_level_h):\n",
    "    #h refinement\n",
    "    h = h_refinement[idx_h]\n",
    "    for idx_p in range(ref_level_p):\n",
    "        #p refinement\n",
    "        p = p_refinement[idx_p]\n",
    "\n",
    "        #Get RHS\n",
    "        RHS_local, xgrid_local, xiLGL_local = generate_RHS_1D_advection(xlower=xlower,\n",
    "        xupper=xupper, n_elements=h,order_x=p,\n",
    "        c_advection=c_advection,BC=\"periodic\",num_flux_type=\"upwind\")\n",
    "\n",
    "        #Compute time step\n",
    "        dx = np.min(np.diff(xgrid_local[:p]))\n",
    "        dxi = np.min(np.diff(xiLGL_local))\n",
    "        dt = CFL*dx*dxi/c_advection/2\n",
    "\n",
    "        #Compute numerical solution\n",
    "        u0 = initial_c(xgrid_local)\n",
    "        u_frames, t_eval = SSPRK33(fun=RHS_local, u0=u0, dt=dt, t0=0.,tfinal=tfinal, nframes=2)\n",
    "\n",
    "        #Compute error\n",
    "        u_numerical = u_frames[-1]\n",
    "        #Compute exact solution\n",
    "        u_exact = exact_sol(xgrid_local,t_eval[-1]) \n",
    "        #Compute error\n",
    "        error = np.linalg.norm(u_numerical-u_exact,ord=2)/np.linalg.norm(u_exact,ord=2)\n",
    "        error_list[idx_h].append(error)"
   ]
  }
 ],
 "metadata": {
  "kernelspec": {
   "display_name": "3.8.9",
   "language": "python",
   "name": "pyenv_3.8.9"
  },
  "language_info": {
   "codemirror_mode": {
    "name": "ipython",
    "version": 3
   },
   "file_extension": ".py",
   "mimetype": "text/x-python",
   "name": "python",
   "nbconvert_exporter": "python",
   "pygments_lexer": "ipython3",
   "version": "3.8.9"
  },
  "orig_nbformat": 4
 },
 "nbformat": 4,
 "nbformat_minor": 2
}
