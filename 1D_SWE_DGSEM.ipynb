{
 "cells": [
  {
   "cell_type": "markdown",
   "metadata": {},
   "source": [
    "## Solving the Shallow Water Equations using the Discontinuous Galerkin Spectral Element Method\n",
    "#### Following the semidiscretization proposed by Gassner, Winters, and Kopriva"
   ]
  },
  {
   "cell_type": "markdown",
   "metadata": {},
   "source": [
    "We consider tha 1D shallow water equations (NSWEs) with bathymetry:\n",
    "$$\n",
    "\\begin{align}\n",
    "{\\partial_t h} + {\\partial_x (hu)} &= 0, \\\\\n",
    "{\\partial_t (hu)} + {\\partial_x (hu^2 + \\frac{1}{2}gh^2)} &= -gh{\\partial_x b}.\n",
    "\\end{align}\n",
    "$$\n",
    "where $h$ is the height of the water, $u$ is the horizontal flow velocity, $g$ is the gravitational acceleration constant, and $b$ is the bathymetry. For simplicity we do not consider the treatment of dry states.\n",
    "\n",
    "The skew-symmetric form of the NSWEs in a fixed element is:\n",
    "$$\n",
    "\\begin{align}\n",
    "&{h_t} + { (hu)_\\xi} = 0, \\\\\n",
    "&J [(hu)_t+hu_t]/2 + [(hu^2)u_\\xi+(hu)u_\\xi]/2+g(h+b)_\\xi = 0.\n",
    "\\end{align}\n",
    "$$\n",
    "where $J=\\frac{\\Delta x}{2}$ is the Jacobian of the transformation from the reference element to the physical element.\n",
    "\n"
   ]
  },
  {
   "cell_type": "code",
   "execution_count": 1,
   "metadata": {},
   "outputs": [],
   "source": [
    "import math\n",
    "import numpy as np\n",
    "import matplotlib.pyplot as plt\n",
    "import pandas as pd\n",
    "\n",
    "\n",
    "#Local libraries\n",
    "from basis_nodes import generate_lagrange_poly, generate_LGL_points\n",
    "from SBP_matrices import first_order_D, first_order_P_Q\n",
    "from RHS_1D_advection import generate_RHS_1D_advection\n",
    "from SSPRK import SSPRK33"
   ]
  },
  {
   "cell_type": "markdown",
   "metadata": {},
   "source": [
    "### Defining a computational domain"
   ]
  },
  {
   "cell_type": "code",
   "execution_count": 2,
   "metadata": {},
   "outputs": [],
   "source": [
    "## Computational domain\n",
    "\n",
    "#Each element i will be enclosed by x_{i} and x_{i+1}\n",
    "n_elements = 40\n",
    "xlower = 0.\n",
    "xupper = 2.\n",
    "x = np.linspace(xlower,xupper, n_elements+1)\n",
    "\n",
    "#Advection speed\n",
    "c = 1.\n",
    "\n",
    "#Spatial formal order of accuracy\n",
    "order_x = 4"
   ]
  },
  {
   "cell_type": "markdown",
   "metadata": {},
   "source": [
    "### Problem parameters"
   ]
  },
  {
   "cell_type": "code",
   "execution_count": 15,
   "metadata": {},
   "outputs": [
    {
     "data": {
      "text/plain": [
       "<matplotlib.legend.Legend at 0x14109e7f0>"
      ]
     },
     "execution_count": 15,
     "metadata": {},
     "output_type": "execute_result"
    },
    {
     "data": {
      "image/png": "[encoded data removed]",
      "text/plain": [
       "<Figure size 432x288 with 1 Axes>"
      ]
     },
     "metadata": {
      "needs_background": "light"
     },
     "output_type": "display_data"
    }
   ],
   "source": [
    "g = 1. #Gravitational acceleration constant\n",
    "bathymetry_function = lambda x : 0.1*np.sin(2*np.pi*x) #Bathymetry function\n",
    "#plot defining y limits\n",
    "plt.plot(x, bathymetry_function(x), 'k', label='Bathymetry')\n",
    "plt.ylim(-0.2,1.)\n",
    "plt.legend()\n"
   ]
  },
  {
   "cell_type": "markdown",
   "metadata": {},
   "source": [
    "### Nodes at reference element"
   ]
  },
  {
   "cell_type": "code",
   "execution_count": 12,
   "metadata": {},
   "outputs": [],
   "source": [
    "#We'll need a Lagrange basis of degree order_x-1\n",
    "#Thus, we will need order_x nodes in each element\n",
    "degree_basis = order_x-1\n",
    "if degree_basis >0:\n",
    "    (_, _,\n",
    "    _, _,\n",
    "    _, _,\n",
    "    xi_LGL_unsorted, w_LGL_unsorted) = generate_LGL_points(degree_basis)\n",
    "else:\n",
    "    xi_LGL_unsorted, w_LGL_unsorted = np.array([0.]), np.array([1.])\n",
    "\n",
    "#######################\n",
    "#######################\n",
    "#The root finder returns unsorted roots,\n",
    "#We fix that in these lines\n",
    "\n",
    "#Indexes that would sort x_LG using value\n",
    "sort_idxs_LGL = np.argsort(xi_LGL_unsorted)\n",
    "#Sorting x_LG and w_LG using those indexes\n",
    "xi_LGL = xi_LGL_unsorted[sort_idxs_LGL]\n",
    "w_LGL = w_LGL_unsorted[sort_idxs_LGL]\n",
    "#######################\n",
    "#######################\n",
    "\n",
    "n_nodes = len(xi_LGL)"
   ]
  },
  {
   "cell_type": "markdown",
   "metadata": {},
   "source": [
    "### Mapping to physical element"
   ]
  },
  {
   "cell_type": "code",
   "execution_count": 16,
   "metadata": {},
   "outputs": [],
   "source": [
    "#We map the nodes from the reference element to one of the elements \n",
    "#from our computational domain (this suffices since we are using an uniform grid)\n",
    "x_min = x[0]\n",
    "x_max = x[1]\n",
    "\n",
    "#We just need to map the LGL nodes once since we are using a uniform grid\n",
    "x_element = (xi_LGL*(x_max-x_min)+(x_min+x_max))/2\n",
    "len_element = (x_max-x_min)/2. #Constant in this case\n",
    "w_element = (x_max-x_min)*w_LGL\n",
    "list_elements = [x_element]\n",
    "\n",
    "#We define our grid (interface points will be repeated)\n",
    "x_grid = np.zeros(n_elements*n_nodes)\n",
    "\n",
    "#print(f\"Numerical grid with double interface nodes\")\n",
    "for i in range(n_elements): \n",
    "    j = i*n_nodes\n",
    "    x_grid[j:j+n_nodes] = x_element+x[i]\n",
    "    list_elements.append(x_grid[j:j+n_nodes])\n",
    "#    print(f\"Element {i+1:}\\t {x_grid[j:j+n_nodes]}\")"
   ]
  },
  {
   "cell_type": "markdown",
   "metadata": {},
   "source": [
    "### Define our SBP Operators"
   ]
  },
  {
   "cell_type": "code",
   "execution_count": 17,
   "metadata": {},
   "outputs": [
    {
     "name": "stderr",
     "output_type": "stream",
     "text": [
      "/Users/munozmca/Desktop/Courses/Spring_2023/SBP_Operators_AMCS348/basis_nodes.py:21: RuntimeWarning: invalid value encountered in divide\n",
      "  return np.prod((x-x_nodes)/(xj-x_nodes), where = mask)\n",
      "/Users/munozmca/Desktop/Courses/Spring_2023/SBP_Operators_AMCS348/basis_nodes.py:21: RuntimeWarning: divide by zero encountered in divide\n",
      "  return np.prod((x-x_nodes)/(xj-x_nodes), where = mask)\n"
     ]
    }
   ],
   "source": [
    "#Local opretaros P and Q\n",
    "P_LGL, Q_LGL = first_order_P_Q(x_Lagrange_nodes=xi_LGL, x_abcissae=xi_LGL, w_abcissae=w_LGL)\n",
    "\n",
    "#Global operators P and Q\n",
    "P = np.kron(np.eye(n_elements), P_LGL)\n",
    "Q = np.kron(np.eye(n_elements), Q_LGL)\n",
    "\n",
    "diagP=np.diag(P)\n",
    "diagPinv=1./diagP\n",
    "\n",
    "#Restriction operators R, B\n",
    "#Local\n",
    "R_LGL = np.zeros((2,n_nodes))\n",
    "R_LGL[0,0] = R_LGL[-1,-1] = 1\n",
    "B_LGL = np.zeros((2,2))\n",
    "B_LGL[0,0] = -1; B_LGL[-1,-1]=1\n",
    "#Global\n",
    "R = np.kron(np.eye(n_elements), R_LGL)\n",
    "B = np.kron(np.eye(n_elements), B_LGL)\n",
    "\n",
    "\n",
    "#Differential operator D\n",
    "#Local\n",
    "D_LGL = first_order_D(x_nodes=xi_LGL)\n",
    "#Global\n",
    "D = np.kron(np.eye(n_elements), D_LGL)\n"
   ]
  },
  {
   "cell_type": "markdown",
   "metadata": {},
   "source": [
    "### Flux function and numerical fluxes"
   ]
  },
  {
   "cell_type": "code",
   "execution_count": 18,
   "metadata": {},
   "outputs": [],
   "source": [
    "#Flux functions (two components)\n",
    "flux1_fun = lambda h, hu : hu\n",
    "flux2_fun = lambda h, hu : hu**2/h + g*h**2/2\n",
    "\n",
    "#Numerical fluxes (two components)\n",
    "f_num1_fun = lambda hL, hR, uL, uR :np.double(0.25)*(uL +uR)*(hL + hR)\n",
    "f_num2_fun = lambda hL, hR, uL, uR :np.double(0.125)*(uL+uR)**2*(hL+hR)+np.double(0.25)*g*(hL**2+hR**2)\n",
    "\n",
    "#Global\n",
    "def f_num_fun(h,hu,n_elements=n_elements,n_nodes=n_nodes):\n",
    "    #Computing numerical flux just at the interface of elements\n",
    "    #Fill numerical flux vector for first element\n",
    "    #Will return two lists of fluxes, one for each component: f1 and f2\n",
    "    u = hu/h\n",
    "    \n",
    "    if n_elements == 1:\n",
    "        f1 = [flux1_fun(1.,0.), flux1_fun(h[0],hu[0])]    \n",
    "        f2 = [flux2_fun(1.,0.), flux2_fun(h[0],hu[0])]\n",
    "        return np.array(f)\n",
    "    \n",
    "    #For general periodic BCs\n",
    "    f1 = [flux1_fun(1.,0.),                     #Left interface\n",
    "        flux1_fun(h[n_nodes-1],hu[n_nodes-1])]  #Right interface\n",
    "    f2 = [flux2_fun(1.,0.),                     #Left interface\n",
    "        flux2_fun(h[n_nodes-1],hu[n_nodes-1])]  #Right interface\n",
    "\n",
    "    for idx_elem in range(1,n_elements-1):\n",
    "        #Left interface\n",
    "        idx_R = idx_elem*n_nodes\n",
    "        idx_L = idx_R-1\n",
    "        f1.append(f_num1_fun(h[idx_L],h[idx_R],u[idx_L],u[idx_R]))\n",
    "        f2.append(f_num2_fun(h[idx_L],h[idx_R],u[idx_L],u[idx_R]))\n",
    "        #print(f\"Element {idx_elem+1}\")\n",
    "        #print(f\"Left interface\")\n",
    "        #print(f\"{idx_L, idx_R}\")\n",
    "\n",
    "        #Right interface\n",
    "        idx_R = (idx_elem+1)*n_nodes\n",
    "        idx_L = idx_R-1\n",
    "        f1.append(f_num1_fun(h[idx_L],h[idx_R],u[idx_L],u[idx_R]))\n",
    "        f2.append(f_num2_fun(h[idx_L],h[idx_R],u[idx_L],u[idx_R]))\n",
    "        #print(f\"Right interface\")\n",
    "        #print(f\"{idx_L, idx_R}\")\n",
    "        \n",
    "    #Fill numerical flux vector for last element\n",
    "    f1.append(flux1_fun(h[-n_nodes-1],hu[-n_nodes-1])) #Left interface\n",
    "    f2.append(flux2_fun(h[-n_nodes-1],hu[-n_nodes-1])) #Left interface\n",
    "\n",
    "    f1.append(flux1_fun(h[-1],hu[-1]))       #Right interface\n",
    "    f2.append(flux2_fun(h[-1],hu[-1]))       #Right interface\n",
    "\n",
    "        #print(f\"Last element\")\n",
    "        #print(f\"Left interface\")\n",
    "        #print(f\"{-n_nodes-1, -n_nodes}\")\n",
    "        #print(f\"Right interface\")\n",
    "        #print(f\"{n_nodes*n_elements-1, 0}\")\n",
    "    return np.array(f1), np.array(f2)\n"
   ]
  },
  {
   "cell_type": "markdown",
   "id": "8f09eb90",
   "metadata": {},
   "source": [
    "## Semi-discrete RHS operator"
   ]
  },
  {
   "cell_type": "code",
   "execution_count": null,
   "metadata": {},
   "outputs": [],
   "source": [
    "def RHS(q):\n",
    "    #q will be a vector of size 2*n_nodes*n_elements\n",
    "    #h contains the first half of elements and hu the second half\n",
    "    h = q[:n_nodes*n_elements]\n",
    "    hu = q[n_nodes*n_elements:]\n",
    "\n",
    "    u = hu/h\n",
    "\n",
    "    f1 = f_num1_fun(h,hu)\n",
    "    f2 = f_num2_fun(h,hu)\n",
    "\n",
    "    fnum1, fnum2 = f_num_fun(h,hu)\n",
    "\n",
    "    RHS1 = -D@f1 - diagPinv*(R.T@B@(fnum1-R@f1))\n",
    "    RHS2 = -D@f2 - 0.5*(D@(h*u**2)+hu*(D@u)+u*(D@f1)) - g*h*(D@h+bath) - diagPinv*(R.T@B@(fnum2-R@f2))\n",
    "    \n",
    "    return (1./len_element)*np.concatenate((RHS1,RHS2))\n"
   ]
  }
 ],
 "metadata": {
  "kernelspec": {
   "display_name": "Python 3.8.9 64-bit ('3.8.9')",
   "language": "python",
   "name": "python3"
  },
  "language_info": {
   "codemirror_mode": {
    "name": "ipython",
    "version": 3
   },
   "file_extension": ".py",
   "mimetype": "text/x-python",
   "name": "python",
   "nbconvert_exporter": "python",
   "pygments_lexer": "ipython3",
   "version": "3.8.9"
  },
  "orig_nbformat": 4,
  "vscode": {
   "interpreter": {
    "hash": "d081cd71dc91446871ec4a2c8bcaeeb9242b475c0f8ff2e1fd32814b9586a55f"
   }
  }
 },
 "nbformat": 4,
 "nbformat_minor": 2
}
